{
  "nbformat": 4,
  "nbformat_minor": 0,
  "metadata": {
    "colab": {
      "name": "Abby NewVersion02_Tabular_Workbook.ipynb",
      "provenance": [],
      "collapsed_sections": [],
      "include_colab_link": true
    },
    "jupytext": {
      "split_at_heading": true
    },
    "kernelspec": {
      "display_name": "Python 3",
      "language": "python",
      "name": "python3"
    }
  },
  "cells": [
    {
      "cell_type": "markdown",
      "metadata": {
        "id": "view-in-github",
        "colab_type": "text"
      },
      "source": [
        "<a href=\"https://colab.research.google.com/github/aaddobea/Unpackworks/blob/main/Abby_NewVersion02_Tabular_Workbook.ipynb\" target=\"_parent\"><img src=\"https://colab.research.google.com/assets/colab-badge.svg\" alt=\"Open In Colab\"/></a>"
      ]
    },
    {
      "cell_type": "markdown",
      "metadata": {
        "id": "7j04QL-TPJy1"
      },
      "source": [
        "# 💻Week 2 Workbook of unpackAI \"DL101 Bootcamp\"\n"
      ]
    },
    {
      "cell_type": "markdown",
      "metadata": {
        "id": "f0joGgV0POOt"
      },
      "source": [
        "## 📕 Learning Objectives of the Week\n",
        "\n",
        "* Get hands-on experience on building tabular models "
      ]
    },
    {
      "cell_type": "markdown",
      "metadata": {
        "id": "Jx21fMyjgV1v"
      },
      "source": [
        "## unpackAI Assignment Section\n",
        "\n",
        " \n",
        "*   **Assignment 1**: Go through the multiple choice questions below and choose the correct answer. Discuss during the presentation session.\n",
        "*   **Assignment 2**: Build an entire classification model starting from defining your objective, gathering data to training your model and interpreting the results."
      ]
    },
    {
      "cell_type": "markdown",
      "metadata": {
        "id": "tIYs4jA3yY7L"
      },
      "source": [
        "# Assignment 1: \n",
        "\n",
        "#### The questions here are designed to ensure that you can know the following\n",
        "\n",
        "*    Why a random forest is useful as a ML algorithm\n",
        "\n",
        "*    Understand the difference between a categorical and a continous variable\n",
        "\n",
        "*    Understand the reasons why features can or should be removed from a the model\n",
        "\n",
        "*    **Ensure that you understand the names of the different variables, functions, and classes in the code, so that you can edit and reuse them independently.**\n",
        "\n",
        "## The following questions are multiple choice to help guide undestanding of the content. However, there can be one or multiple answers to each of the questions.\n",
        "\n",
        "#### Please skim through the questions, and as you run through the notebooks fill in the answers as you find them.\n",
        "\n",
        "\n"
      ]
    },
    {
      "cell_type": "markdown",
      "metadata": {
        "id": "DdV2cZh0yY7N"
      },
      "source": [
        "\n",
        "\n",
        "\n",
        "\n",
        "---\n",
        "\n",
        "\n",
        "\n",
        "\n",
        "### **Section A**: Understanding the Code"
      ]
    },
    {
      "cell_type": "markdown",
      "metadata": {
        "id": "3bnPzzssyY7P"
      },
      "source": [
        "\n",
        "###1. Why is a random forest useful as a machine learning algorithm for analyzing tabular data? (Multiple Answers)\n",
        "\n",
        "* A. It is highly randomized.\n",
        "* B. It can accept unstructured data of many types which are both categorical and continuous. because it ensembles both decision trees and regressions. \n",
        "* C. It can find relationships between different features (variables) that are not immediately clear in raw tabular data. \n",
        "* D. We can delegate the task of cleaning and organizing our data to the algorithm.\n",
        "\n",
        "###2. What is a \"target variable? \n",
        "\n",
        "* A. It is similar to the y variable in an equation.\n",
        "* B. It informs the algorithm what to target during convolution data processing iterations.\n",
        "* C. It is the variable that our model seeks to predict.\n",
        "* D. It helps the algorithm decide how to split the data set\n",
        "\n",
        "###3. Why do we split the data into a training set and a validation set? In our notebook, what are the variable names for two parts of the training set? \n",
        "\n",
        "* A. We do it manually based on the individual aspects particular to each data set. valid_xs, train_y\n",
        "* B. So that the model can compare the outcomes of training data compared validation data and improve its accuracy by adjusting the weights. train_xs, valid_y\n",
        "* C. We do it manually based on the individual aspects particular to each dataset. valid_xs, train_y\n",
        "* D. So that the model can compare the outcomes of training data compared validation data and improve its accuracy by adjusting the weights. train_xs, train_y\n",
        "\n",
        "### 4. What does TabularPandas (named ***to*** in notebook) do for us? **Extra:** Why is it important to not treat it as a black box?\n",
        "\n",
        "* A. It converts human readable tabular data into a form which can be efficiently imputed into the algorithm.\n",
        "* B. It represents continuous variables such as \"Yes\" and \"No\" as 1 and 0. \n",
        "* C. The FillMissing method takes care of missing data by replacing it with the column's mean or a specific value if you wish. \n",
        "* D. The Normalize method interprets continuous data points by their distance to the mean, rather than as a set of large integers."
      ]
    },
    {
      "cell_type": "markdown",
      "metadata": {
        "id": "MGAtMTnv8Mls"
      },
      "source": [
        "1. Options A,B and C\n",
        "2. Options A,B and C\n",
        "3. Options A and D\n",
        "4. Options A, C and  D"
      ]
    },
    {
      "cell_type": "markdown",
      "metadata": {
        "id": "xxwIc5jGyY7R"
      },
      "source": [
        "\n",
        "\n",
        "---\n",
        "\n",
        "###**Section 2**: Understanding the difference between catagorical and continous variables"
      ]
    },
    {
      "cell_type": "markdown",
      "metadata": {
        "id": "AQOIpWGpyY7S"
      },
      "source": [
        "###5. Which of the following are properties of continuous variables?\n",
        "\n",
        "* A. They can be interpreted mathematically as data points along a line/plane\n",
        "* B. They are easy to identify whenever you see numbers in the dataset\n",
        "* C. They usually lie within a range and can be full integers (1,5,-7) or floating point decimals (88.01, 94.00) depending on how the data was collected\n",
        "* D. Their only purpose is to divide the dataset into easy to understand groups\n",
        "\n",
        "###6. Which of the following are properties of categorical variables?\n",
        "\n",
        "* A. They tell us information which doesn't have immediate mathematical meaning like colors, locations, or names.\n",
        "* B. They allow us to group the dataset into categories based on properties \n",
        "* C. They always appear as text in a dataset. \n",
        "* D. They exist along a quantifiable spectrum.\n",
        "\n",
        "###7. Which of the following should be treated as a continuous variable rather than a categorical variable?\n",
        "\n",
        "* A. E-commerce goods organized by their use/function on a website such as Amazon\n",
        "* B. Postal Codes and Phone Numbers from a customer database\n",
        "* C. Educational background (none, primary school, some secondary school, secondary school, some university, university, masters, doctorate, postdoc) \n",
        "* D. Randomly generated primary keys from a SQL database \n",
        "\n",
        "###8. Which of the following should be treated as a categorical variable rather than a continuous variable? \n",
        "\n",
        "* A. The standard deviation from the mean of a sample\n",
        "* B. The rolls of a 6 sided dice (1,2,3,4,5,6)\n",
        "* C. Temperature as reported by people (hot, cold, warm, freezing, cool)\n",
        "* D. The materials used in manufacturing a product (Plastic, Metal, Glass).\n",
        "\n",
        "\n"
      ]
    },
    {
      "cell_type": "markdown",
      "metadata": {
        "id": "evwAyXkYPHru"
      },
      "source": [
        "5. Options A, C, D\n",
        "6. Options B and C\n",
        "7. Options A and B\n",
        "8. Options C and D"
      ]
    },
    {
      "cell_type": "markdown",
      "metadata": {
        "id": "3FTwtLklyY7T"
      },
      "source": [
        "\n",
        "\n",
        "---\n",
        "\n",
        "###**Section 3** Measuring Accuracy and Improving our Model: "
      ]
    },
    {
      "cell_type": "markdown",
      "metadata": {
        "id": "GwVqrTCZyY7U"
      },
      "source": [
        "###9. What is a common method of **quantitatively** measuring how accurate a tabular model is? \n",
        "\n",
        "* A. Analysis based on person feelings and biases\n",
        "* B. R2 Score \n",
        "* C. Analysis by domain experts using their knowledge of their field to see if it conforms to reality.\n",
        "* D. Standard Deviation\n",
        "\n",
        "###10. What are two good reasons to remove a feature from a model?\n",
        "\n",
        "* A. It might upset someone due to it's unexpected information content.\n",
        "* B. The r2 score shows that it is not a significant predictor of the target.\n",
        "* C. It is an outlier and should be removed to clean the dataset\n",
        "* D. It is highly correlated with another feature, so the effect of each gets confused with the other. \n",
        "\n",
        "###11. What happens to the model's accuracy if we remove an **irrelevant** feature?\n",
        "\n",
        "* A. The r2 score remains the same or increases slightly due to removing noise, but allows us to focus on the important features.\n",
        "* B. The r2 score decreases because our model is less complex.\n",
        "* C. The r2 score increases significantly because the information density is higher.\n",
        "* D. The r2 score increases hugely, because it has higher information density and we can now focus on the important features instead.\n",
        "\n",
        "\n",
        "###12. What happens to our model if we have two highly correlated features? How does it affect the model's accuracy? Just as importantly, how does it affect the information value of our model? \n",
        "\n",
        "* A. It increases accuracy by removing noise reflected in the r2 score by having two variables telling us highly similar information. It also increases the information content, by giving us more actionable information. \n",
        "\n",
        "* B. It decreases accuracy, but increases the information content by allowing us to focus on what is actionable and important.\n",
        "\n",
        "* C. It increases accuracy, but decreases the information content because our model is less complex and therefore less reflective of reality.\n",
        "\n",
        "* D. It decreases accuracy, but increases the information content by simplifying our model because the effect measured isn't hiding inside of two or more variables which can confuse people.\n",
        "\n",
        "###13. After finishing the first round of model training, what can human intervention contribute to the iterative process? \n",
        "\n",
        "* A. We can use R2 values as a guide to determine whether a variable should or shouldn't be included in the next iteration of our model. \n",
        "\n",
        "* B. We can use our knowledge of the dataset, domain, or business to evaluate the results as expected or unexpected, and then further cleanse our dataset to yield more information. \n",
        "\n",
        "* C. We can look for highly correlated features by clustering them according to their correlation levels and decide which to remove, either by using R2 score as a guide, or using by using our common sense.\n",
        "\n",
        "* D. We can go out into the world with full trust in the new information given to us by some easy to use, plug and play python code. \n"
      ]
    },
    {
      "cell_type": "markdown",
      "metadata": {
        "id": "rgVvVknjQhlp"
      },
      "source": [
        "9.  Option B\n",
        "10. Options B, C and D\n",
        "11. Options A \n",
        "12. Options D\n",
        "13. Options A  and C"
      ]
    },
    {
      "cell_type": "markdown",
      "metadata": {
        "id": "QUbu_n7fiITe"
      },
      "source": [
        "## Assignment 2: Build an entire classification model starting from defining your objective, gathering data to training your model and interpreting the results."
      ]
    },
    {
      "cell_type": "code",
      "metadata": {
        "id": "6EFbQj6OaG_m"
      },
      "source": [
        "!pip install -Uqq fastbook kaggle waterfallcharts treeinterpreter dtreeviz\n",
        "!pip install -q unpackai"
      ],
      "execution_count": 32,
      "outputs": []
    },
    {
      "cell_type": "code",
      "metadata": {
        "id": "azcl-ikfOQJR"
      },
      "source": [
        "from fastbook import *\n",
        "from unpackai.tabular import no_missing_values, plot_hist\n",
        "\n",
        "from pandas.api.types import is_string_dtype, is_numeric_dtype, is_categorical_dtype\n",
        "from fastai.tabular.all import *\n",
        "from sklearn.ensemble import RandomForestRegressor\n",
        "from sklearn.ensemble import RandomForestClassifier\n",
        "from sklearn.tree import DecisionTreeRegressor\n",
        "from dtreeviz.trees import *\n",
        "from IPython.display import Image, display_svg, SVG\n",
        "\n",
        "import seaborn as sns\n",
        "\n",
        "pd.options.display.max_rows = 20\n",
        "pd.options.display.max_columns = 8\n",
        "pd.set_option('display.max_columns', None)"
      ],
      "execution_count": 33,
      "outputs": []
    },
    {
      "cell_type": "markdown",
      "metadata": {
        "id": "nMjo3Bh63l-a"
      },
      "source": [
        "#### 0. Define a machine learning task"
      ]
    },
    {
      "cell_type": "markdown",
      "metadata": {
        "id": "4-prUftUtT_u"
      },
      "source": [
        "Try to look first at the coursebook's example in order to articulate your machine learning task, what's observed and what answer you want the model to predict. \n",
        "\n",
        "**Machine Learning Task**: A startup mobile company wants to go into a mobile phone production. The company wants to know what features(eg:- RAM,Internal Memory, dual sime etc) influences the price of mobile phones in the market. \n",
        "\n",
        "**Target**: dual sim (whether a particular phone supports dual sim or not.\n",
        "\n",
        "**Samples**: We asked one customer the features of his mobile phone and the price he bought.\n",
        "\n",
        "**Features**: Features are based on battery power, availability of bluetooth(blue), internal memory etc."
      ]
    },
    {
      "cell_type": "markdown",
      "metadata": {
        "id": "6OFx2kTakt2E"
      },
      "source": [
        "#### 1. Choose your dataset\n",
        "\n",
        "We highly recommend you to search for your own Tabular Data dataset. For that you can easily go on [Kaggle](https://www.kaggle.com/) and search for your own tabular classification dataset.\n",
        "\n",
        "Examples could be \n",
        "\n",
        "1. [Online shopper purchasing intention:](https://archive.ics.uci.edu/ml/datasets/Online+Shoppers+Purchasing+Intention+Dataset) Will the shopper purchase or not purchase a product?\n",
        "1. [Mushroom Classification](https://www.kaggle.com/uciml/mushroom-classification): Edible or poisonous mushroom?\n",
        "1. [Others...](https://www.kaggle.com/datasets?search=classification&datasetsOnly=true)\n",
        "\n",
        "In order to  utilise the dataset, you will have to download it, and upload it into the Colab Notebook using the files feature on the left. See the image below for the step-by-step process.\n",
        "\n",
        "<img src=\"https://www.dropbox.com/s/rmo90567wwjohxp/Upload.png?dl=1\" width=\"900\"/>\n",
        "\n",
        "As a data requirement, make sure that you are working with a tabular data classification task. The data format has to be `csv`."
      ]
    },
    {
      "cell_type": "markdown",
      "metadata": {
        "id": "PkUg9HF3B-Vi"
      },
      "source": [
        "#### 2. Prepare the dataset"
      ]
    },
    {
      "cell_type": "markdown",
      "metadata": {
        "id": "PxdhVpxhgsrQ"
      },
      "source": [
        "You can build DataFrame directly by reading csv file from download link we provided in the Assignment description.\n",
        "\n",
        "Tips: use `pd.read_csv(\"your path goes here\")`\n",
        "\n",
        "> Make sure to not forget the \"\"."
      ]
    },
    {
      "cell_type": "code",
      "metadata": {
        "id": "Ih8V-H1buLP0",
        "colab": {
          "base_uri": "https://localhost:8080/",
          "height": 224
        },
        "outputId": "0fe26f1a-5e9f-4442-fa39-8bbe6a5134f6"
      },
      "source": [
        "MobilePrice = pd.read_csv(\"/content/test.csv\")\n",
        "MobilePrice.head()"
      ],
      "execution_count": 34,
      "outputs": [
        {
          "output_type": "execute_result",
          "data": {
            "text/html": [
              "<div>\n",
              "<style scoped>\n",
              "    .dataframe tbody tr th:only-of-type {\n",
              "        vertical-align: middle;\n",
              "    }\n",
              "\n",
              "    .dataframe tbody tr th {\n",
              "        vertical-align: top;\n",
              "    }\n",
              "\n",
              "    .dataframe thead th {\n",
              "        text-align: right;\n",
              "    }\n",
              "</style>\n",
              "<table border=\"1\" class=\"dataframe\">\n",
              "  <thead>\n",
              "    <tr style=\"text-align: right;\">\n",
              "      <th></th>\n",
              "      <th>id</th>\n",
              "      <th>battery_power</th>\n",
              "      <th>blue</th>\n",
              "      <th>clock_speed</th>\n",
              "      <th>dual_sim</th>\n",
              "      <th>fc</th>\n",
              "      <th>four_g</th>\n",
              "      <th>int_memory</th>\n",
              "      <th>m_dep</th>\n",
              "      <th>mobile_wt</th>\n",
              "      <th>n_cores</th>\n",
              "      <th>pc</th>\n",
              "      <th>px_height</th>\n",
              "      <th>px_width</th>\n",
              "      <th>ram</th>\n",
              "      <th>sc_h</th>\n",
              "      <th>sc_w</th>\n",
              "      <th>talk_time</th>\n",
              "      <th>three_g</th>\n",
              "      <th>touch_screen</th>\n",
              "      <th>wifi</th>\n",
              "    </tr>\n",
              "  </thead>\n",
              "  <tbody>\n",
              "    <tr>\n",
              "      <th>0</th>\n",
              "      <td>1</td>\n",
              "      <td>1043</td>\n",
              "      <td>1</td>\n",
              "      <td>1.8</td>\n",
              "      <td>1</td>\n",
              "      <td>14</td>\n",
              "      <td>0</td>\n",
              "      <td>5</td>\n",
              "      <td>0.1</td>\n",
              "      <td>193</td>\n",
              "      <td>3</td>\n",
              "      <td>16</td>\n",
              "      <td>226</td>\n",
              "      <td>1412</td>\n",
              "      <td>3476</td>\n",
              "      <td>12</td>\n",
              "      <td>7</td>\n",
              "      <td>2</td>\n",
              "      <td>0</td>\n",
              "      <td>1</td>\n",
              "      <td>0</td>\n",
              "    </tr>\n",
              "    <tr>\n",
              "      <th>1</th>\n",
              "      <td>2</td>\n",
              "      <td>841</td>\n",
              "      <td>1</td>\n",
              "      <td>0.5</td>\n",
              "      <td>1</td>\n",
              "      <td>4</td>\n",
              "      <td>1</td>\n",
              "      <td>61</td>\n",
              "      <td>0.8</td>\n",
              "      <td>191</td>\n",
              "      <td>5</td>\n",
              "      <td>12</td>\n",
              "      <td>746</td>\n",
              "      <td>857</td>\n",
              "      <td>3895</td>\n",
              "      <td>6</td>\n",
              "      <td>0</td>\n",
              "      <td>7</td>\n",
              "      <td>1</td>\n",
              "      <td>0</td>\n",
              "      <td>0</td>\n",
              "    </tr>\n",
              "    <tr>\n",
              "      <th>2</th>\n",
              "      <td>3</td>\n",
              "      <td>1807</td>\n",
              "      <td>1</td>\n",
              "      <td>2.8</td>\n",
              "      <td>0</td>\n",
              "      <td>1</td>\n",
              "      <td>0</td>\n",
              "      <td>27</td>\n",
              "      <td>0.9</td>\n",
              "      <td>186</td>\n",
              "      <td>3</td>\n",
              "      <td>4</td>\n",
              "      <td>1270</td>\n",
              "      <td>1366</td>\n",
              "      <td>2396</td>\n",
              "      <td>17</td>\n",
              "      <td>10</td>\n",
              "      <td>10</td>\n",
              "      <td>0</td>\n",
              "      <td>1</td>\n",
              "      <td>1</td>\n",
              "    </tr>\n",
              "    <tr>\n",
              "      <th>3</th>\n",
              "      <td>4</td>\n",
              "      <td>1546</td>\n",
              "      <td>0</td>\n",
              "      <td>0.5</td>\n",
              "      <td>1</td>\n",
              "      <td>18</td>\n",
              "      <td>1</td>\n",
              "      <td>25</td>\n",
              "      <td>0.5</td>\n",
              "      <td>96</td>\n",
              "      <td>8</td>\n",
              "      <td>20</td>\n",
              "      <td>295</td>\n",
              "      <td>1752</td>\n",
              "      <td>3893</td>\n",
              "      <td>10</td>\n",
              "      <td>0</td>\n",
              "      <td>7</td>\n",
              "      <td>1</td>\n",
              "      <td>1</td>\n",
              "      <td>0</td>\n",
              "    </tr>\n",
              "    <tr>\n",
              "      <th>4</th>\n",
              "      <td>5</td>\n",
              "      <td>1434</td>\n",
              "      <td>0</td>\n",
              "      <td>1.4</td>\n",
              "      <td>0</td>\n",
              "      <td>11</td>\n",
              "      <td>1</td>\n",
              "      <td>49</td>\n",
              "      <td>0.5</td>\n",
              "      <td>108</td>\n",
              "      <td>6</td>\n",
              "      <td>18</td>\n",
              "      <td>749</td>\n",
              "      <td>810</td>\n",
              "      <td>1773</td>\n",
              "      <td>15</td>\n",
              "      <td>8</td>\n",
              "      <td>7</td>\n",
              "      <td>1</td>\n",
              "      <td>0</td>\n",
              "      <td>1</td>\n",
              "    </tr>\n",
              "  </tbody>\n",
              "</table>\n",
              "</div>"
            ],
            "text/plain": [
              "   id  battery_power  blue  clock_speed  dual_sim  fc  four_g  int_memory  \\\n",
              "0   1           1043     1          1.8         1  14       0           5   \n",
              "1   2            841     1          0.5         1   4       1          61   \n",
              "2   3           1807     1          2.8         0   1       0          27   \n",
              "3   4           1546     0          0.5         1  18       1          25   \n",
              "4   5           1434     0          1.4         0  11       1          49   \n",
              "\n",
              "   m_dep  mobile_wt  n_cores  pc  px_height  px_width   ram  sc_h  sc_w  \\\n",
              "0    0.1        193        3  16        226      1412  3476    12     7   \n",
              "1    0.8        191        5  12        746       857  3895     6     0   \n",
              "2    0.9        186        3   4       1270      1366  2396    17    10   \n",
              "3    0.5         96        8  20        295      1752  3893    10     0   \n",
              "4    0.5        108        6  18        749       810  1773    15     8   \n",
              "\n",
              "   talk_time  three_g  touch_screen  wifi  \n",
              "0          2        0             1     0  \n",
              "1          7        1             0     0  \n",
              "2         10        0             1     1  \n",
              "3          7        1             1     0  \n",
              "4          7        1             0     1  "
            ]
          },
          "metadata": {},
          "execution_count": 34
        }
      ]
    },
    {
      "cell_type": "markdown",
      "metadata": {
        "id": "w5sG0hdDhYXH"
      },
      "source": [
        "Explore the dataset to choose the column name for setting a target variable."
      ]
    },
    {
      "cell_type": "code",
      "metadata": {
        "id": "xEYwJ4XfBXC8"
      },
      "source": [
        "target = \"dual_sim\""
      ],
      "execution_count": 35,
      "outputs": []
    },
    {
      "cell_type": "markdown",
      "metadata": {
        "id": "Et6uQjLZjMfw"
      },
      "source": [
        "\\Utilize `cont_cat_split` to derive continious and categorical variables"
      ]
    },
    {
      "cell_type": "code",
      "metadata": {
        "id": "g6_pmlUDxhK8"
      },
      "source": [
        "continous_variables, categorical_variables = cont_cat_split(MobilePrice, dep_var=target)"
      ],
      "execution_count": 27,
      "outputs": []
    },
    {
      "cell_type": "code",
      "metadata": {
        "colab": {
          "base_uri": "https://localhost:8080/"
        },
        "id": "ze1F5Cvx1LYZ",
        "outputId": "1e5624fe-e95a-43aa-f7d9-f8aa6189a36f"
      },
      "source": [
        "continous_variables"
      ],
      "execution_count": 36,
      "outputs": [
        {
          "output_type": "execute_result",
          "data": {
            "text/plain": [
              "['id',\n",
              " 'battery_power',\n",
              " 'clock_speed',\n",
              " 'int_memory',\n",
              " 'm_dep',\n",
              " 'mobile_wt',\n",
              " 'pc',\n",
              " 'px_height',\n",
              " 'px_width',\n",
              " 'ram']"
            ]
          },
          "metadata": {},
          "execution_count": 36
        }
      ]
    },
    {
      "cell_type": "code",
      "metadata": {
        "colab": {
          "base_uri": "https://localhost:8080/"
        },
        "id": "TYtnFjhW1Mbe",
        "outputId": "47728d1c-1480-4c91-9160-4811df34ab81"
      },
      "source": [
        "categorical_variables"
      ],
      "execution_count": 37,
      "outputs": [
        {
          "output_type": "execute_result",
          "data": {
            "text/plain": [
              "['blue',\n",
              " 'fc',\n",
              " 'four_g',\n",
              " 'n_cores',\n",
              " 'sc_h',\n",
              " 'sc_w',\n",
              " 'talk_time',\n",
              " 'three_g',\n",
              " 'touch_screen',\n",
              " 'wifi']"
            ]
          },
          "metadata": {},
          "execution_count": 37
        }
      ]
    },
    {
      "cell_type": "markdown",
      "metadata": {
        "id": "If9RODqUV4ni"
      },
      "source": [
        "#### 3. Data Transformations"
      ]
    },
    {
      "cell_type": "markdown",
      "metadata": {
        "id": "euznEVCQV2QK"
      },
      "source": [
        "> Hint: Follow the structure of the coursebook to (1) split the dataset into a training and validation set, (2) get rid of missing values, (3) analyze feature importance, (4) remove redundant features and (5) build your `DataLoaders`."
      ]
    },
    {
      "cell_type": "markdown",
      "metadata": {
        "id": "dx18Bpkk4rYa"
      },
      "source": [
        "**(1) Split of data set** "
      ]
    },
    {
      "cell_type": "code",
      "metadata": {
        "id": "m6IwwIfi4inq"
      },
      "source": [
        "split_dataset=RandomSplitter(valid_pct=0.2)(MobilePrice)"
      ],
      "execution_count": 38,
      "outputs": []
    },
    {
      "cell_type": "code",
      "metadata": {
        "id": "D8sUPRy1i3TH"
      },
      "source": [
        "to = TabularPandas(MobilePrice, \n",
        "                   procs=[Categorify, FillMissing, Normalize],\n",
        "                   cat_names=categorical_variables,\n",
        "                   cont_names=continous_variables,\n",
        "                   y_names=target,\n",
        "                   splits=split_dataset)"
      ],
      "execution_count": 39,
      "outputs": []
    },
    {
      "cell_type": "code",
      "metadata": {
        "colab": {
          "base_uri": "https://localhost:8080/",
          "height": 131
        },
        "id": "a7M9eBkI43kx",
        "outputId": "ec78dd8a-8ec4-424f-826c-3d72ef631681"
      },
      "source": [
        "to.xs.iloc[:2]"
      ],
      "execution_count": 40,
      "outputs": [
        {
          "output_type": "execute_result",
          "data": {
            "text/html": [
              "<div>\n",
              "<style scoped>\n",
              "    .dataframe tbody tr th:only-of-type {\n",
              "        vertical-align: middle;\n",
              "    }\n",
              "\n",
              "    .dataframe tbody tr th {\n",
              "        vertical-align: top;\n",
              "    }\n",
              "\n",
              "    .dataframe thead th {\n",
              "        text-align: right;\n",
              "    }\n",
              "</style>\n",
              "<table border=\"1\" class=\"dataframe\">\n",
              "  <thead>\n",
              "    <tr style=\"text-align: right;\">\n",
              "      <th></th>\n",
              "      <th>blue</th>\n",
              "      <th>fc</th>\n",
              "      <th>four_g</th>\n",
              "      <th>n_cores</th>\n",
              "      <th>sc_h</th>\n",
              "      <th>sc_w</th>\n",
              "      <th>talk_time</th>\n",
              "      <th>three_g</th>\n",
              "      <th>touch_screen</th>\n",
              "      <th>wifi</th>\n",
              "      <th>id</th>\n",
              "      <th>battery_power</th>\n",
              "      <th>clock_speed</th>\n",
              "      <th>int_memory</th>\n",
              "      <th>m_dep</th>\n",
              "      <th>mobile_wt</th>\n",
              "      <th>pc</th>\n",
              "      <th>px_height</th>\n",
              "      <th>px_width</th>\n",
              "      <th>ram</th>\n",
              "    </tr>\n",
              "  </thead>\n",
              "  <tbody>\n",
              "    <tr>\n",
              "      <th>326</th>\n",
              "      <td>1</td>\n",
              "      <td>8</td>\n",
              "      <td>2</td>\n",
              "      <td>8</td>\n",
              "      <td>4</td>\n",
              "      <td>6</td>\n",
              "      <td>6</td>\n",
              "      <td>2</td>\n",
              "      <td>1</td>\n",
              "      <td>2</td>\n",
              "      <td>-0.615055</td>\n",
              "      <td>-0.64335</td>\n",
              "      <td>-1.031761</td>\n",
              "      <td>-0.948731</td>\n",
              "      <td>-0.410530</td>\n",
              "      <td>0.145571</td>\n",
              "      <td>-0.164827</td>\n",
              "      <td>-0.882727</td>\n",
              "      <td>-1.381918</td>\n",
              "      <td>-1.676440</td>\n",
              "    </tr>\n",
              "    <tr>\n",
              "      <th>273</th>\n",
              "      <td>1</td>\n",
              "      <td>3</td>\n",
              "      <td>1</td>\n",
              "      <td>2</td>\n",
              "      <td>9</td>\n",
              "      <td>7</td>\n",
              "      <td>10</td>\n",
              "      <td>1</td>\n",
              "      <td>2</td>\n",
              "      <td>1</td>\n",
              "      <td>-0.798702</td>\n",
              "      <td>-1.25494</td>\n",
              "      <td>-0.546440</td>\n",
              "      <td>-0.348268</td>\n",
              "      <td>0.648901</td>\n",
              "      <td>0.174368</td>\n",
              "      <td>-0.164827</td>\n",
              "      <td>-1.197504</td>\n",
              "      <td>-0.137234</td>\n",
              "      <td>-0.079684</td>\n",
              "    </tr>\n",
              "  </tbody>\n",
              "</table>\n",
              "</div>"
            ],
            "text/plain": [
              "     blue  fc  four_g  n_cores  sc_h  sc_w  talk_time  three_g  touch_screen  \\\n",
              "326     1   8       2        8     4     6          6        2             1   \n",
              "273     1   3       1        2     9     7         10        1             2   \n",
              "\n",
              "     wifi        id  battery_power  clock_speed  int_memory     m_dep  \\\n",
              "326     2 -0.615055       -0.64335    -1.031761   -0.948731 -0.410530   \n",
              "273     1 -0.798702       -1.25494    -0.546440   -0.348268  0.648901   \n",
              "\n",
              "     mobile_wt        pc  px_height  px_width       ram  \n",
              "326   0.145571 -0.164827  -0.882727 -1.381918 -1.676440  \n",
              "273   0.174368 -0.164827  -1.197504 -0.137234 -0.079684  "
            ]
          },
          "metadata": {},
          "execution_count": 40
        }
      ]
    },
    {
      "cell_type": "code",
      "metadata": {
        "id": "ZgEtkFDY5a0-"
      },
      "source": [
        "train_xs, train_y = to.train.xs, to.train.y #training set\n",
        "valid_xs, valid_y = to.valid.xs, to.valid.y #validation set"
      ],
      "execution_count": 41,
      "outputs": []
    },
    {
      "cell_type": "code",
      "metadata": {
        "id": "hS5PTND-5y_v"
      },
      "source": [
        "#@title Build Random Forest \n",
        "def RandomForest_R2(xs, y, c=[]):\n",
        "    \"\"\"Fits a RF model and evaluate a OOB score on xs where features c are dropped\n",
        "    params: \n",
        "        xs: the training set\n",
        "        y:  the targets for training\n",
        "        c:  (optional): the name of one column or a list of columns to drop from xs\n",
        "    \"\"\"\n",
        "    if isinstance_str(c, 'str'): c = [c]\n",
        "        # if c not in xs.columns:\n",
        "        #     return None\n",
        "    # if isinstance_str(c, 'list'):\n",
        "    if set(c).difference(set(xs.columns)) != set():\n",
        "        return None\n",
        "    n_estimators = 40\n",
        "    max_samples = min(50_000, xs.shape[0])\n",
        "    max_features = 0.5\n",
        "    min_samples_leaf = 15\n",
        "    m = RandomForestClassifier(n_estimators=n_estimators, \n",
        "                              max_samples=max_samples, \n",
        "                              max_features=max_features, \n",
        "                              min_samples_leaf=min_samples_leaf, \n",
        "                              oob_score=True,\n",
        "                              n_jobs=-1,\n",
        "                              random_state=88)\n",
        "    m.fit(X=xs.drop(c, axis=1), y=y)\n",
        "    oob_r2 = m.oob_score_\n",
        "    print(f\"R2 Score:\")\n",
        "    return oob_r2"
      ],
      "execution_count": 43,
      "outputs": []
    },
    {
      "cell_type": "code",
      "metadata": {
        "colab": {
          "base_uri": "https://localhost:8080/"
        },
        "id": "BO_HgMqO5lha",
        "outputId": "b521c9a7-15b8-43c4-f757-71647fb94aac"
      },
      "source": [
        "RandomForest_R2(train_xs, train_y)"
      ],
      "execution_count": 44,
      "outputs": [
        {
          "output_type": "stream",
          "name": "stdout",
          "text": [
            "R2 Score:\n"
          ]
        },
        {
          "output_type": "execute_result",
          "data": {
            "text/plain": [
              "0.5075"
            ]
          },
          "metadata": {},
          "execution_count": 44
        }
      ]
    },
    {
      "cell_type": "markdown",
      "metadata": {
        "id": "lssHcgQZBw0u"
      },
      "source": [
        "**(2) Eradication of missing values**"
      ]
    },
    {
      "cell_type": "code",
      "metadata": {
        "colab": {
          "base_uri": "https://localhost:8080/",
          "height": 436
        },
        "id": "C0Drn7yZ5-ix",
        "outputId": "774d7102-90d7-41be-e639-fed1d3724e11"
      },
      "source": [
        "MobilePrice = no_missing_values(MobilePrice, 0.5)"
      ],
      "execution_count": 48,
      "outputs": [
        {
          "output_type": "display_data",
          "data": {
            "text/html": [
              "<div>\n",
              "<style scoped>\n",
              "    .dataframe tbody tr th:only-of-type {\n",
              "        vertical-align: middle;\n",
              "    }\n",
              "\n",
              "    .dataframe tbody tr th {\n",
              "        vertical-align: top;\n",
              "    }\n",
              "\n",
              "    .dataframe thead th {\n",
              "        text-align: right;\n",
              "    }\n",
              "</style>\n",
              "<table border=\"1\" class=\"dataframe\">\n",
              "  <thead>\n",
              "    <tr style=\"text-align: right;\">\n",
              "      <th></th>\n",
              "      <th>missing_fraction</th>\n",
              "    </tr>\n",
              "  </thead>\n",
              "  <tbody>\n",
              "    <tr>\n",
              "      <th>id</th>\n",
              "      <td>0.0</td>\n",
              "    </tr>\n",
              "    <tr>\n",
              "      <th>pc</th>\n",
              "      <td>0.0</td>\n",
              "    </tr>\n",
              "    <tr>\n",
              "      <th>touch_screen</th>\n",
              "      <td>0.0</td>\n",
              "    </tr>\n",
              "    <tr>\n",
              "      <th>three_g</th>\n",
              "      <td>0.0</td>\n",
              "    </tr>\n",
              "    <tr>\n",
              "      <th>talk_time</th>\n",
              "      <td>0.0</td>\n",
              "    </tr>\n",
              "    <tr>\n",
              "      <th>...</th>\n",
              "      <td>...</td>\n",
              "    </tr>\n",
              "    <tr>\n",
              "      <th>fc</th>\n",
              "      <td>0.0</td>\n",
              "    </tr>\n",
              "    <tr>\n",
              "      <th>dual_sim</th>\n",
              "      <td>0.0</td>\n",
              "    </tr>\n",
              "    <tr>\n",
              "      <th>clock_speed</th>\n",
              "      <td>0.0</td>\n",
              "    </tr>\n",
              "    <tr>\n",
              "      <th>blue</th>\n",
              "      <td>0.0</td>\n",
              "    </tr>\n",
              "    <tr>\n",
              "      <th>wifi</th>\n",
              "      <td>0.0</td>\n",
              "    </tr>\n",
              "  </tbody>\n",
              "</table>\n",
              "<p>21 rows × 1 columns</p>\n",
              "</div>"
            ],
            "text/plain": [
              "              missing_fraction\n",
              "id                         0.0\n",
              "pc                         0.0\n",
              "touch_screen               0.0\n",
              "three_g                    0.0\n",
              "talk_time                  0.0\n",
              "...                        ...\n",
              "fc                         0.0\n",
              "dual_sim                   0.0\n",
              "clock_speed                0.0\n",
              "blue                       0.0\n",
              "wifi                       0.0\n",
              "\n",
              "[21 rows x 1 columns]"
            ]
          },
          "metadata": {}
        },
        {
          "output_type": "stream",
          "name": "stdout",
          "text": [
            "0 features with greater than 50.0% missing values.\n"
          ]
        }
      ]
    },
    {
      "cell_type": "markdown",
      "metadata": {
        "id": "lxIOMwPYAleD"
      },
      "source": [
        "**(3) Feature Analysis**"
      ]
    },
    {
      "cell_type": "code",
      "metadata": {
        "id": "jxoQD87l6eEm"
      },
      "source": [
        "def RandomForest_feat_importance(xs, y, valid_xs, valid_y):\n",
        "    \"\"\"Fit a RF model on the passed xs and y, and evaluate oob and validation R2 score\"\"\"\n",
        "    print(\"Setting up model ...\")\n",
        "    n_estimators = 40\n",
        "    max_samples = min(100_000, xs.shape[0])\n",
        "    max_features = 0.5\n",
        "    min_samples_leaf = 5\n",
        "    m = RandomForestClassifier(n_estimators=n_estimators, \n",
        "                              max_samples=max_samples, \n",
        "                              max_features=max_features, \n",
        "                              min_samples_leaf=min_samples_leaf, \n",
        "                              oob_score=True,\n",
        "                              n_jobs=-1,\n",
        "                              random_state=88)\n",
        "\n",
        "    print(\"Fitting model ...\")\n",
        "    m.fit(X=xs, y=y)\n",
        "    oob_r2 = m.oob_score_\n",
        "    val_r2 = m.score(valid_xs, valid_y)\n",
        "\n",
        "    print(f\"Model Performances:\")\n",
        "    #print(f\" - OOB R2 Score:        {oob_r2:0.5f}\")\n",
        "    #print(f\" - Validation R2 Score: {val_r2:0.5f}\")\n",
        "\n",
        "    return pd.DataFrame({'cols':xs.columns, 'imp':m.feature_importances_}\n",
        "                        ).sort_values('imp', ascending=False)"
      ],
      "execution_count": 49,
      "outputs": []
    },
    {
      "cell_type": "code",
      "metadata": {
        "colab": {
          "base_uri": "https://localhost:8080/",
          "height": 720
        },
        "id": "wNZszOLG6oAG",
        "outputId": "822a6088-358b-48af-8e39-aa53ce8dde40"
      },
      "source": [
        "FeatureImportance = RandomForest_feat_importance(train_xs, train_y, valid_xs, valid_y)\n",
        "FeatureImportance[:]"
      ],
      "execution_count": 50,
      "outputs": [
        {
          "output_type": "stream",
          "name": "stdout",
          "text": [
            "Setting up model ...\n",
            "Fitting model ...\n",
            "Model Performances:\n"
          ]
        },
        {
          "output_type": "execute_result",
          "data": {
            "text/html": [
              "<div>\n",
              "<style scoped>\n",
              "    .dataframe tbody tr th:only-of-type {\n",
              "        vertical-align: middle;\n",
              "    }\n",
              "\n",
              "    .dataframe tbody tr th {\n",
              "        vertical-align: top;\n",
              "    }\n",
              "\n",
              "    .dataframe thead th {\n",
              "        text-align: right;\n",
              "    }\n",
              "</style>\n",
              "<table border=\"1\" class=\"dataframe\">\n",
              "  <thead>\n",
              "    <tr style=\"text-align: right;\">\n",
              "      <th></th>\n",
              "      <th>cols</th>\n",
              "      <th>imp</th>\n",
              "    </tr>\n",
              "  </thead>\n",
              "  <tbody>\n",
              "    <tr>\n",
              "      <th>19</th>\n",
              "      <td>ram</td>\n",
              "      <td>0.094396</td>\n",
              "    </tr>\n",
              "    <tr>\n",
              "      <th>15</th>\n",
              "      <td>mobile_wt</td>\n",
              "      <td>0.092714</td>\n",
              "    </tr>\n",
              "    <tr>\n",
              "      <th>11</th>\n",
              "      <td>battery_power</td>\n",
              "      <td>0.091851</td>\n",
              "    </tr>\n",
              "    <tr>\n",
              "      <th>10</th>\n",
              "      <td>id</td>\n",
              "      <td>0.090943</td>\n",
              "    </tr>\n",
              "    <tr>\n",
              "      <th>17</th>\n",
              "      <td>px_height</td>\n",
              "      <td>0.077404</td>\n",
              "    </tr>\n",
              "    <tr>\n",
              "      <th>18</th>\n",
              "      <td>px_width</td>\n",
              "      <td>0.069235</td>\n",
              "    </tr>\n",
              "    <tr>\n",
              "      <th>13</th>\n",
              "      <td>int_memory</td>\n",
              "      <td>0.067284</td>\n",
              "    </tr>\n",
              "    <tr>\n",
              "      <th>16</th>\n",
              "      <td>pc</td>\n",
              "      <td>0.063744</td>\n",
              "    </tr>\n",
              "    <tr>\n",
              "      <th>12</th>\n",
              "      <td>clock_speed</td>\n",
              "      <td>0.057037</td>\n",
              "    </tr>\n",
              "    <tr>\n",
              "      <th>5</th>\n",
              "      <td>sc_w</td>\n",
              "      <td>0.053537</td>\n",
              "    </tr>\n",
              "    <tr>\n",
              "      <th>4</th>\n",
              "      <td>sc_h</td>\n",
              "      <td>0.045358</td>\n",
              "    </tr>\n",
              "    <tr>\n",
              "      <th>6</th>\n",
              "      <td>talk_time</td>\n",
              "      <td>0.043603</td>\n",
              "    </tr>\n",
              "    <tr>\n",
              "      <th>14</th>\n",
              "      <td>m_dep</td>\n",
              "      <td>0.043103</td>\n",
              "    </tr>\n",
              "    <tr>\n",
              "      <th>1</th>\n",
              "      <td>fc</td>\n",
              "      <td>0.040301</td>\n",
              "    </tr>\n",
              "    <tr>\n",
              "      <th>3</th>\n",
              "      <td>n_cores</td>\n",
              "      <td>0.029724</td>\n",
              "    </tr>\n",
              "    <tr>\n",
              "      <th>9</th>\n",
              "      <td>wifi</td>\n",
              "      <td>0.012434</td>\n",
              "    </tr>\n",
              "    <tr>\n",
              "      <th>8</th>\n",
              "      <td>touch_screen</td>\n",
              "      <td>0.010541</td>\n",
              "    </tr>\n",
              "    <tr>\n",
              "      <th>2</th>\n",
              "      <td>four_g</td>\n",
              "      <td>0.007294</td>\n",
              "    </tr>\n",
              "    <tr>\n",
              "      <th>0</th>\n",
              "      <td>blue</td>\n",
              "      <td>0.006824</td>\n",
              "    </tr>\n",
              "    <tr>\n",
              "      <th>7</th>\n",
              "      <td>three_g</td>\n",
              "      <td>0.002676</td>\n",
              "    </tr>\n",
              "  </tbody>\n",
              "</table>\n",
              "</div>"
            ],
            "text/plain": [
              "             cols       imp\n",
              "19            ram  0.094396\n",
              "15      mobile_wt  0.092714\n",
              "11  battery_power  0.091851\n",
              "10             id  0.090943\n",
              "17      px_height  0.077404\n",
              "18       px_width  0.069235\n",
              "13     int_memory  0.067284\n",
              "16             pc  0.063744\n",
              "12    clock_speed  0.057037\n",
              "5            sc_w  0.053537\n",
              "4            sc_h  0.045358\n",
              "6       talk_time  0.043603\n",
              "14          m_dep  0.043103\n",
              "1              fc  0.040301\n",
              "3         n_cores  0.029724\n",
              "9            wifi  0.012434\n",
              "8    touch_screen  0.010541\n",
              "2          four_g  0.007294\n",
              "0            blue  0.006824\n",
              "7         three_g  0.002676"
            ]
          },
          "metadata": {},
          "execution_count": 50
        }
      ]
    },
    {
      "cell_type": "code",
      "metadata": {
        "id": "YDQ3oc9G6wzo"
      },
      "source": [
        "def plot_fi(fi):\n",
        "    return fi.plot('cols', 'imp', 'barh', figsize=(12,7), legend=False)"
      ],
      "execution_count": 51,
      "outputs": []
    },
    {
      "cell_type": "code",
      "metadata": {
        "colab": {
          "base_uri": "https://localhost:8080/",
          "height": 431
        },
        "id": "hBnwLWoz62jx",
        "outputId": "868bec67-fa17-42ac-c4c8-1f0917a1722e"
      },
      "source": [
        "plot_fi(FeatureImportance[:25]);"
      ],
      "execution_count": 52,
      "outputs": [
        {
          "output_type": "display_data",
          "data": {
            "image/png": "[encoded data removed]",
            "text/plain": [
              "<Figure size 864x504 with 1 Axes>"
            ]
          },
          "metadata": {
            "needs_background": "light"
          }
        }
      ]
    },
    {
      "cell_type": "code",
      "metadata": {
        "colab": {
          "base_uri": "https://localhost:8080/"
        },
        "id": "olPb4szh8hXE",
        "outputId": "45e02b6f-d018-469b-a324-5745c4c24781"
      },
      "source": [
        "to_keep = FeatureImportance[FeatureImportance.imp>0.020].cols\n",
        "len(to_keep)"
      ],
      "execution_count": 78,
      "outputs": [
        {
          "output_type": "execute_result",
          "data": {
            "text/plain": [
              "15"
            ]
          },
          "metadata": {},
          "execution_count": 78
        }
      ]
    },
    {
      "cell_type": "code",
      "metadata": {
        "id": "ivgn55iy9WBP"
      },
      "source": [
        "train_xs_imp = train_xs[to_keep]\n",
        "valid_xs_imp = valid_xs[to_keep]"
      ],
      "execution_count": 79,
      "outputs": []
    },
    {
      "cell_type": "code",
      "metadata": {
        "colab": {
          "base_uri": "https://localhost:8080/"
        },
        "id": "jKL4qe469bTp",
        "outputId": "6664f831-310c-464f-83d6-2a5d68bf2c30"
      },
      "source": [
        "RandomForest_R2(train_xs_imp, train_y)"
      ],
      "execution_count": 80,
      "outputs": [
        {
          "output_type": "stream",
          "name": "stdout",
          "text": [
            "R2 Score:\n"
          ]
        },
        {
          "output_type": "execute_result",
          "data": {
            "text/plain": [
              "0.5175"
            ]
          },
          "metadata": {},
          "execution_count": 80
        }
      ]
    },
    {
      "cell_type": "code",
      "metadata": {
        "colab": {
          "base_uri": "https://localhost:8080/",
          "height": 482
        },
        "id": "2e08fEJe-anS",
        "outputId": "2367007c-95cb-4ab6-c013-b13d71a6d461"
      },
      "source": [
        "FeatureImportance = RandomForest_feat_importance(train_xs_imp, train_y, valid_xs_imp, valid_y)\n",
        "plot_fi(FeatureImportance[:15]);"
      ],
      "execution_count": 82,
      "outputs": [
        {
          "output_type": "stream",
          "name": "stdout",
          "text": [
            "Setting up model ...\n",
            "Fitting model ...\n",
            "Model Performances:\n"
          ]
        },
        {
          "output_type": "display_data",
          "data": {
            "image/png": "[encoded data removed]",
            "text/plain": [
              "<Figure size 864x504 with 1 Axes>"
            ]
          },
          "metadata": {
            "needs_background": "light"
          }
        }
      ]
    },
    {
      "cell_type": "markdown",
      "metadata": {
        "id": "vbo0EVF1772Y"
      },
      "source": [
        "**(4) Redundant features Removal**"
      ]
    },
    {
      "cell_type": "code",
      "metadata": {
        "colab": {
          "base_uri": "https://localhost:8080/",
          "height": 486
        },
        "id": "nDuDD92t8CQR",
        "outputId": "d7fa260d-daff-438a-c736-c3a6669b42f3"
      },
      "source": [
        "cluster_columns(train_xs_imp, figsize=(12, 8))"
      ],
      "execution_count": 83,
      "outputs": [
        {
          "output_type": "display_data",
          "data": {
            "image/png": "[encoded data removed]",
            "text/plain": [
              "<Figure size 864x576 with 1 Axes>"
            ]
          },
          "metadata": {
            "needs_background": "light"
          }
        }
      ]
    },
    {
      "cell_type": "code",
      "metadata": {
        "colab": {
          "base_uri": "https://localhost:8080/"
        },
        "id": "Kf2Zenjk_8OG",
        "outputId": "a6c968a4-f016-4e2d-e498-51dc939da2b1"
      },
      "source": [
        "RandomForest_R2(train_xs_imp, train_y)"
      ],
      "execution_count": 84,
      "outputs": [
        {
          "output_type": "stream",
          "name": "stdout",
          "text": [
            "R2 Score:\n"
          ]
        },
        {
          "output_type": "execute_result",
          "data": {
            "text/plain": [
              "0.5175"
            ]
          },
          "metadata": {},
          "execution_count": 84
        }
      ]
    },
    {
      "cell_type": "code",
      "metadata": {
        "colab": {
          "base_uri": "https://localhost:8080/"
        },
        "id": "BbXVMalDAHhL",
        "outputId": "2a87fd96-ca6d-46c8-e837-43d607eadf37"
      },
      "source": [
        "for c in (categorical_variables):\n",
        "    print(f\"R2 score without {c:18s}: {RandomForest_R2(train_xs_imp, train_y, c)}\")\n",
        "for c in (continous_variables):\n",
        "      print(f\"R2 score without {c:18s}: {RandomForest_R2(train_xs_imp, train_y, c)}\")"
      ],
      "execution_count": 85,
      "outputs": [
        {
          "output_type": "stream",
          "name": "stdout",
          "text": [
            "R2 score without blue              : None\n",
            "R2 Score:\n",
            "R2 score without fc                : 0.505\n",
            "R2 score without four_g            : None\n",
            "R2 Score:\n",
            "R2 score without n_cores           : 0.50625\n",
            "R2 Score:\n",
            "R2 score without sc_h              : 0.52625\n",
            "R2 Score:\n",
            "R2 score without sc_w              : 0.51\n",
            "R2 Score:\n",
            "R2 score without talk_time         : 0.525\n",
            "R2 score without three_g           : None\n",
            "R2 score without touch_screen      : None\n",
            "R2 score without wifi              : None\n",
            "R2 Score:\n",
            "R2 score without id                : 0.51\n",
            "R2 Score:\n",
            "R2 score without battery_power     : 0.50375\n",
            "R2 Score:\n",
            "R2 score without clock_speed       : 0.495\n",
            "R2 Score:\n",
            "R2 score without int_memory        : 0.4925\n",
            "R2 Score:\n",
            "R2 score without m_dep             : 0.505\n",
            "R2 Score:\n",
            "R2 score without mobile_wt         : 0.53625\n",
            "R2 Score:\n",
            "R2 score without pc                : 0.5075\n",
            "R2 Score:\n",
            "R2 score without px_height         : 0.5175\n",
            "R2 Score:\n",
            "R2 score without px_width          : 0.475\n",
            "R2 Score:\n",
            "R2 score without ram               : 0.515\n"
          ]
        }
      ]
    },
    {
      "cell_type": "code",
      "metadata": {
        "colab": {
          "base_uri": "https://localhost:8080/"
        },
        "id": "Vycpkn_jEYlT",
        "outputId": "7273b11b-b06f-4748-8d9e-0155d8b2c155"
      },
      "source": [
        "to_drop = ['sc_h']\n",
        "RandomForest_R2(train_xs_imp, train_y, to_drop)"
      ],
      "execution_count": 117,
      "outputs": [
        {
          "output_type": "stream",
          "name": "stdout",
          "text": [
            "R2 Score:\n"
          ]
        },
        {
          "output_type": "execute_result",
          "data": {
            "text/plain": [
              "0.52625"
            ]
          },
          "metadata": {},
          "execution_count": 117
        }
      ]
    },
    {
      "cell_type": "code",
      "metadata": {
        "colab": {
          "base_uri": "https://localhost:8080/"
        },
        "id": "nK8taFwDEMEv",
        "outputId": "03593ee8-6b89-41f9-ba9b-551943c15235"
      },
      "source": [
        "train_xs_final = train_xs_imp.drop(to_drop, axis=1)\n",
        "valid_xs_final = valid_xs_imp.drop(to_drop, axis=1)\n",
        "print(f\"{train_xs_final.shape[1]} features left in the final dataset\")"
      ],
      "execution_count": 118,
      "outputs": [
        {
          "output_type": "stream",
          "name": "stdout",
          "text": [
            "14 features left in the final dataset\n"
          ]
        }
      ]
    },
    {
      "cell_type": "code",
      "metadata": {
        "colab": {
          "base_uri": "https://localhost:8080/"
        },
        "id": "ojgWs9rFEo78",
        "outputId": "1cff16ff-6162-41ba-e4b4-c352a77ee235"
      },
      "source": [
        "cont_var_final, cat_var_final  = cont_cat_split(train_xs_final)\n",
        "print(f\"Continuous:  {len(cont_var_final)}\", cont_var_final)\n",
        "print(f\"Categorical: {len(cat_var_final)}\", cat_var_final)"
      ],
      "execution_count": 119,
      "outputs": [
        {
          "output_type": "stream",
          "name": "stdout",
          "text": [
            "Continuous:  10 ['ram', 'battery_power', 'id', 'mobile_wt', 'px_width', 'px_height', 'int_memory', 'pc', 'clock_speed', 'm_dep']\n",
            "Categorical: 4 ['talk_time', 'sc_w', 'n_cores', 'fc']\n"
          ]
        }
      ]
    },
    {
      "cell_type": "markdown",
      "metadata": {
        "id": "H1-rEuOWr2QP"
      },
      "source": [
        "# 4. Model Training"
      ]
    },
    {
      "cell_type": "code",
      "metadata": {
        "id": "VoRU_z5qLcxL"
      },
      "source": [
        "to = TabularPandas(MobilePrice, \n",
        "                   procs=[Categorify, FillMissing,Normalize],\n",
        "                   cat_names=categorical_variables,\n",
        "                   cont_names=continous_variables,\n",
        "                   y_names=target,\n",
        "                   y_block=CategoryBlock,\n",
        "                   splits=split_dataset)"
      ],
      "execution_count": 120,
      "outputs": []
    },
    {
      "cell_type": "code",
      "metadata": {
        "id": "awuopMi-GBi8"
      },
      "source": [
        "train_xs_final, train_y = to.train.xs, to.train.y\n",
        "valid_xs_final, valid_y = to.valid.xs, to.valid.y"
      ],
      "execution_count": 121,
      "outputs": []
    },
    {
      "cell_type": "code",
      "metadata": {
        "id": "XDQ5p-gwGCb-"
      },
      "source": [
        "dls = to.dataloaders(bs=5)"
      ],
      "execution_count": 122,
      "outputs": []
    },
    {
      "cell_type": "code",
      "metadata": {
        "colab": {
          "base_uri": "https://localhost:8080/",
          "height": 224
        },
        "id": "cPkBi6u4GFFu",
        "outputId": "6f878cb3-f6a2-43fb-84a2-a539f407c006"
      },
      "source": [
        "dls.show_batch()"
      ],
      "execution_count": 123,
      "outputs": [
        {
          "output_type": "display_data",
          "data": {
            "text/html": [
              "<table border=\"1\" class=\"dataframe\">\n",
              "  <thead>\n",
              "    <tr style=\"text-align: right;\">\n",
              "      <th></th>\n",
              "      <th>blue</th>\n",
              "      <th>fc</th>\n",
              "      <th>four_g</th>\n",
              "      <th>n_cores</th>\n",
              "      <th>sc_h</th>\n",
              "      <th>sc_w</th>\n",
              "      <th>talk_time</th>\n",
              "      <th>three_g</th>\n",
              "      <th>touch_screen</th>\n",
              "      <th>wifi</th>\n",
              "      <th>id</th>\n",
              "      <th>battery_power</th>\n",
              "      <th>clock_speed</th>\n",
              "      <th>int_memory</th>\n",
              "      <th>m_dep</th>\n",
              "      <th>mobile_wt</th>\n",
              "      <th>pc</th>\n",
              "      <th>px_height</th>\n",
              "      <th>px_width</th>\n",
              "      <th>ram</th>\n",
              "      <th>dual_sim</th>\n",
              "    </tr>\n",
              "  </thead>\n",
              "  <tbody>\n",
              "    <tr>\n",
              "      <th>0</th>\n",
              "      <td>1</td>\n",
              "      <td>0</td>\n",
              "      <td>1</td>\n",
              "      <td>7</td>\n",
              "      <td>11</td>\n",
              "      <td>10</td>\n",
              "      <td>16</td>\n",
              "      <td>1</td>\n",
              "      <td>0</td>\n",
              "      <td>1</td>\n",
              "      <td>456.999998</td>\n",
              "      <td>1266.000000</td>\n",
              "      <td>1.0</td>\n",
              "      <td>1.999999</td>\n",
              "      <td>0.7</td>\n",
              "      <td>86.999999</td>\n",
              "      <td>1.0</td>\n",
              "      <td>640.000000</td>\n",
              "      <td>1356.999994</td>\n",
              "      <td>3066.999975</td>\n",
              "      <td>0</td>\n",
              "    </tr>\n",
              "    <tr>\n",
              "      <th>1</th>\n",
              "      <td>0</td>\n",
              "      <td>3</td>\n",
              "      <td>0</td>\n",
              "      <td>8</td>\n",
              "      <td>10</td>\n",
              "      <td>3</td>\n",
              "      <td>20</td>\n",
              "      <td>1</td>\n",
              "      <td>1</td>\n",
              "      <td>1</td>\n",
              "      <td>446.000000</td>\n",
              "      <td>1235.000000</td>\n",
              "      <td>1.5</td>\n",
              "      <td>33.000000</td>\n",
              "      <td>0.1</td>\n",
              "      <td>163.999999</td>\n",
              "      <td>16.0</td>\n",
              "      <td>633.000000</td>\n",
              "      <td>1891.000024</td>\n",
              "      <td>1623.000005</td>\n",
              "      <td>0</td>\n",
              "    </tr>\n",
              "    <tr>\n",
              "      <th>2</th>\n",
              "      <td>0</td>\n",
              "      <td>4</td>\n",
              "      <td>1</td>\n",
              "      <td>3</td>\n",
              "      <td>12</td>\n",
              "      <td>8</td>\n",
              "      <td>17</td>\n",
              "      <td>1</td>\n",
              "      <td>1</td>\n",
              "      <td>0</td>\n",
              "      <td>504.000000</td>\n",
              "      <td>794.999984</td>\n",
              "      <td>0.5</td>\n",
              "      <td>54.999999</td>\n",
              "      <td>0.3</td>\n",
              "      <td>155.000000</td>\n",
              "      <td>11.0</td>\n",
              "      <td>226.000010</td>\n",
              "      <td>1736.999993</td>\n",
              "      <td>3030.000031</td>\n",
              "      <td>1</td>\n",
              "    </tr>\n",
              "    <tr>\n",
              "      <th>3</th>\n",
              "      <td>0</td>\n",
              "      <td>4</td>\n",
              "      <td>0</td>\n",
              "      <td>5</td>\n",
              "      <td>7</td>\n",
              "      <td>1</td>\n",
              "      <td>10</td>\n",
              "      <td>1</td>\n",
              "      <td>1</td>\n",
              "      <td>1</td>\n",
              "      <td>912.999996</td>\n",
              "      <td>914.999996</td>\n",
              "      <td>2.8</td>\n",
              "      <td>22.000000</td>\n",
              "      <td>1.0</td>\n",
              "      <td>173.999999</td>\n",
              "      <td>12.0</td>\n",
              "      <td>747.999999</td>\n",
              "      <td>1840.000013</td>\n",
              "      <td>571.999947</td>\n",
              "      <td>1</td>\n",
              "    </tr>\n",
              "    <tr>\n",
              "      <th>4</th>\n",
              "      <td>1</td>\n",
              "      <td>1</td>\n",
              "      <td>0</td>\n",
              "      <td>6</td>\n",
              "      <td>11</td>\n",
              "      <td>10</td>\n",
              "      <td>13</td>\n",
              "      <td>1</td>\n",
              "      <td>1</td>\n",
              "      <td>0</td>\n",
              "      <td>134.000016</td>\n",
              "      <td>590.999985</td>\n",
              "      <td>0.7</td>\n",
              "      <td>21.000000</td>\n",
              "      <td>0.1</td>\n",
              "      <td>184.999999</td>\n",
              "      <td>7.0</td>\n",
              "      <td>360.999993</td>\n",
              "      <td>555.000023</td>\n",
              "      <td>2219.999999</td>\n",
              "      <td>0</td>\n",
              "    </tr>\n",
              "  </tbody>\n",
              "</table>"
            ],
            "text/plain": [
              "<IPython.core.display.HTML object>"
            ]
          },
          "metadata": {}
        }
      ]
    },
    {
      "cell_type": "code",
      "metadata": {
        "id": "WhQdgYaXGW73"
      },
      "source": [
        "learn = tabular_learner(dls, metrics=accuracy)"
      ],
      "execution_count": 124,
      "outputs": []
    },
    {
      "cell_type": "code",
      "metadata": {
        "colab": {
          "base_uri": "https://localhost:8080/",
          "height": 359
        },
        "id": "JxwgnA6BGbnk",
        "outputId": "0a7384b7-3988-412a-ba0e-292f33a6f491"
      },
      "source": [
        "learn.fit_one_cycle(10)"
      ],
      "execution_count": 125,
      "outputs": [
        {
          "output_type": "display_data",
          "data": {
            "text/html": [
              "<table border=\"1\" class=\"dataframe\">\n",
              "  <thead>\n",
              "    <tr style=\"text-align: left;\">\n",
              "      <th>epoch</th>\n",
              "      <th>train_loss</th>\n",
              "      <th>valid_loss</th>\n",
              "      <th>accuracy</th>\n",
              "      <th>time</th>\n",
              "    </tr>\n",
              "  </thead>\n",
              "  <tbody>\n",
              "    <tr>\n",
              "      <td>0</td>\n",
              "      <td>0.745877</td>\n",
              "      <td>0.714652</td>\n",
              "      <td>0.535000</td>\n",
              "      <td>00:01</td>\n",
              "    </tr>\n",
              "    <tr>\n",
              "      <td>1</td>\n",
              "      <td>0.748091</td>\n",
              "      <td>0.742858</td>\n",
              "      <td>0.530000</td>\n",
              "      <td>00:01</td>\n",
              "    </tr>\n",
              "    <tr>\n",
              "      <td>2</td>\n",
              "      <td>0.727891</td>\n",
              "      <td>0.732357</td>\n",
              "      <td>0.525000</td>\n",
              "      <td>00:01</td>\n",
              "    </tr>\n",
              "    <tr>\n",
              "      <td>3</td>\n",
              "      <td>0.693493</td>\n",
              "      <td>0.700476</td>\n",
              "      <td>0.545000</td>\n",
              "      <td>00:01</td>\n",
              "    </tr>\n",
              "    <tr>\n",
              "      <td>4</td>\n",
              "      <td>0.698090</td>\n",
              "      <td>0.716690</td>\n",
              "      <td>0.520000</td>\n",
              "      <td>00:01</td>\n",
              "    </tr>\n",
              "    <tr>\n",
              "      <td>5</td>\n",
              "      <td>0.679372</td>\n",
              "      <td>0.712611</td>\n",
              "      <td>0.530000</td>\n",
              "      <td>00:01</td>\n",
              "    </tr>\n",
              "    <tr>\n",
              "      <td>6</td>\n",
              "      <td>0.675545</td>\n",
              "      <td>0.708901</td>\n",
              "      <td>0.520000</td>\n",
              "      <td>00:01</td>\n",
              "    </tr>\n",
              "    <tr>\n",
              "      <td>7</td>\n",
              "      <td>0.675343</td>\n",
              "      <td>0.713880</td>\n",
              "      <td>0.505000</td>\n",
              "      <td>00:01</td>\n",
              "    </tr>\n",
              "    <tr>\n",
              "      <td>8</td>\n",
              "      <td>0.654287</td>\n",
              "      <td>0.709948</td>\n",
              "      <td>0.520000</td>\n",
              "      <td>00:01</td>\n",
              "    </tr>\n",
              "    <tr>\n",
              "      <td>9</td>\n",
              "      <td>0.647201</td>\n",
              "      <td>0.707893</td>\n",
              "      <td>0.520000</td>\n",
              "      <td>00:01</td>\n",
              "    </tr>\n",
              "  </tbody>\n",
              "</table>"
            ],
            "text/plain": [
              "<IPython.core.display.HTML object>"
            ]
          },
          "metadata": {}
        }
      ]
    },
    {
      "cell_type": "markdown",
      "metadata": {
        "id": "6UEL3siOsV2i"
      },
      "source": [
        "#### 5. Interpret the model and make predictions"
      ]
    },
    {
      "cell_type": "code",
      "metadata": {
        "id": "zbNZWfaDLfEP",
        "colab": {
          "base_uri": "https://localhost:8080/",
          "height": 224
        },
        "outputId": "53592b4f-45be-4d6a-e624-bf2c1c191ade"
      },
      "source": [
        "learn.show_results(dl=dls.valid, max_n=5)"
      ],
      "execution_count": 115,
      "outputs": [
        {
          "output_type": "display_data",
          "data": {
            "text/html": [
              ""
            ],
            "text/plain": [
              "<IPython.core.display.HTML object>"
            ]
          },
          "metadata": {}
        },
        {
          "output_type": "display_data",
          "data": {
            "text/html": [
              "<table border=\"1\" class=\"dataframe\">\n",
              "  <thead>\n",
              "    <tr style=\"text-align: right;\">\n",
              "      <th></th>\n",
              "      <th>blue</th>\n",
              "      <th>fc</th>\n",
              "      <th>four_g</th>\n",
              "      <th>n_cores</th>\n",
              "      <th>sc_h</th>\n",
              "      <th>sc_w</th>\n",
              "      <th>talk_time</th>\n",
              "      <th>three_g</th>\n",
              "      <th>touch_screen</th>\n",
              "      <th>wifi</th>\n",
              "      <th>id</th>\n",
              "      <th>battery_power</th>\n",
              "      <th>clock_speed</th>\n",
              "      <th>int_memory</th>\n",
              "      <th>m_dep</th>\n",
              "      <th>mobile_wt</th>\n",
              "      <th>pc</th>\n",
              "      <th>px_height</th>\n",
              "      <th>px_width</th>\n",
              "      <th>ram</th>\n",
              "      <th>dual_sim</th>\n",
              "      <th>dual_sim_pred</th>\n",
              "    </tr>\n",
              "  </thead>\n",
              "  <tbody>\n",
              "    <tr>\n",
              "      <th>0</th>\n",
              "      <td>1.0</td>\n",
              "      <td>2.0</td>\n",
              "      <td>2.0</td>\n",
              "      <td>7.0</td>\n",
              "      <td>9.0</td>\n",
              "      <td>11.0</td>\n",
              "      <td>13.0</td>\n",
              "      <td>2.0</td>\n",
              "      <td>1.0</td>\n",
              "      <td>1.0</td>\n",
              "      <td>0.133391</td>\n",
              "      <td>-1.047976</td>\n",
              "      <td>-1.274421</td>\n",
              "      <td>-0.894144</td>\n",
              "      <td>0.295758</td>\n",
              "      <td>1.239873</td>\n",
              "      <td>0.162373</td>\n",
              "      <td>-0.047179</td>\n",
              "      <td>-0.783468</td>\n",
              "      <td>1.022663</td>\n",
              "      <td>1.0</td>\n",
              "      <td>1.0</td>\n",
              "    </tr>\n",
              "    <tr>\n",
              "      <th>1</th>\n",
              "      <td>1.0</td>\n",
              "      <td>8.0</td>\n",
              "      <td>2.0</td>\n",
              "      <td>4.0</td>\n",
              "      <td>15.0</td>\n",
              "      <td>18.0</td>\n",
              "      <td>19.0</td>\n",
              "      <td>2.0</td>\n",
              "      <td>2.0</td>\n",
              "      <td>2.0</td>\n",
              "      <td>0.396733</td>\n",
              "      <td>-0.889846</td>\n",
              "      <td>-1.274421</td>\n",
              "      <td>-0.075331</td>\n",
              "      <td>-0.057386</td>\n",
              "      <td>0.059179</td>\n",
              "      <td>1.143970</td>\n",
              "      <td>-0.623499</td>\n",
              "      <td>-1.129340</td>\n",
              "      <td>-0.906445</td>\n",
              "      <td>1.0</td>\n",
              "      <td>1.0</td>\n",
              "    </tr>\n",
              "    <tr>\n",
              "      <th>2</th>\n",
              "      <td>2.0</td>\n",
              "      <td>4.0</td>\n",
              "      <td>1.0</td>\n",
              "      <td>4.0</td>\n",
              "      <td>4.0</td>\n",
              "      <td>3.0</td>\n",
              "      <td>13.0</td>\n",
              "      <td>2.0</td>\n",
              "      <td>2.0</td>\n",
              "      <td>2.0</td>\n",
              "      <td>1.082808</td>\n",
              "      <td>-0.843337</td>\n",
              "      <td>1.516172</td>\n",
              "      <td>1.234770</td>\n",
              "      <td>1.355188</td>\n",
              "      <td>-0.775946</td>\n",
              "      <td>1.307570</td>\n",
              "      <td>0.052346</td>\n",
              "      <td>-1.170299</td>\n",
              "      <td>0.137306</td>\n",
              "      <td>0.0</td>\n",
              "      <td>1.0</td>\n",
              "    </tr>\n",
              "    <tr>\n",
              "      <th>3</th>\n",
              "      <td>2.0</td>\n",
              "      <td>4.0</td>\n",
              "      <td>2.0</td>\n",
              "      <td>5.0</td>\n",
              "      <td>1.0</td>\n",
              "      <td>3.0</td>\n",
              "      <td>18.0</td>\n",
              "      <td>2.0</td>\n",
              "      <td>2.0</td>\n",
              "      <td>2.0</td>\n",
              "      <td>-1.509032</td>\n",
              "      <td>-1.659566</td>\n",
              "      <td>-1.274421</td>\n",
              "      <td>1.071007</td>\n",
              "      <td>1.002045</td>\n",
              "      <td>0.980696</td>\n",
              "      <td>-0.819225</td>\n",
              "      <td>-0.139760</td>\n",
              "      <td>0.342891</td>\n",
              "      <td>-0.217936</td>\n",
              "      <td>0.0</td>\n",
              "      <td>0.0</td>\n",
              "    </tr>\n",
              "    <tr>\n",
              "      <th>4</th>\n",
              "      <td>1.0</td>\n",
              "      <td>1.0</td>\n",
              "      <td>1.0</td>\n",
              "      <td>4.0</td>\n",
              "      <td>15.0</td>\n",
              "      <td>8.0</td>\n",
              "      <td>5.0</td>\n",
              "      <td>1.0</td>\n",
              "      <td>1.0</td>\n",
              "      <td>2.0</td>\n",
              "      <td>-1.418942</td>\n",
              "      <td>-1.357259</td>\n",
              "      <td>-0.789101</td>\n",
              "      <td>0.415957</td>\n",
              "      <td>-0.763673</td>\n",
              "      <td>0.433545</td>\n",
              "      <td>-1.473624</td>\n",
              "      <td>0.364809</td>\n",
              "      <td>-0.717480</td>\n",
              "      <td>0.647279</td>\n",
              "      <td>1.0</td>\n",
              "      <td>0.0</td>\n",
              "    </tr>\n",
              "  </tbody>\n",
              "</table>"
            ],
            "text/plain": [
              "<IPython.core.display.HTML object>"
            ]
          },
          "metadata": {}
        }
      ]
    },
    {
      "cell_type": "code",
      "metadata": {
        "colab": {
          "base_uri": "https://localhost:8080/",
          "height": 344
        },
        "id": "ENVyzdIPHQ2z",
        "outputId": "c47a2e33-5938-4ff5-a7c3-766969c03a63"
      },
      "source": [
        "interp = ClassificationInterpretation.from_learner(learn)\n",
        "# confusion matrix as an array\n",
        "print(interp.confusion_matrix())\n",
        "\n",
        "# confusion as a plot\n",
        "interp.plot_confusion_matrix()"
      ],
      "execution_count": 116,
      "outputs": [
        {
          "output_type": "display_data",
          "data": {
            "text/html": [
              ""
            ],
            "text/plain": [
              "<IPython.core.display.HTML object>"
            ]
          },
          "metadata": {}
        },
        {
          "output_type": "stream",
          "name": "stdout",
          "text": [
            "[[39 53]\n",
            " [45 63]]\n"
          ]
        },
        {
          "output_type": "display_data",
          "data": {
            "image/png": "[encoded data removed]",
            "text/plain": [
              "<Figure size 432x288 with 1 Axes>"
            ]
          },
          "metadata": {
            "needs_background": "light"
          }
        }
      ]
    },
    {
      "cell_type": "code",
      "metadata": {
        "colab": {
          "base_uri": "https://localhost:8080/",
          "height": 224
        },
        "id": "kdGZ4VRBH5ri",
        "outputId": "559f6ced-e40c-47f6-e9f6-896909fa9f2f"
      },
      "source": [
        "testMobilePrice = pd.read_csv(\"/content/test.csv\")\n",
        "testMobilePrice.head()"
      ],
      "execution_count": 126,
      "outputs": [
        {
          "output_type": "execute_result",
          "data": {
            "text/html": [
              "<div>\n",
              "<style scoped>\n",
              "    .dataframe tbody tr th:only-of-type {\n",
              "        vertical-align: middle;\n",
              "    }\n",
              "\n",
              "    .dataframe tbody tr th {\n",
              "        vertical-align: top;\n",
              "    }\n",
              "\n",
              "    .dataframe thead th {\n",
              "        text-align: right;\n",
              "    }\n",
              "</style>\n",
              "<table border=\"1\" class=\"dataframe\">\n",
              "  <thead>\n",
              "    <tr style=\"text-align: right;\">\n",
              "      <th></th>\n",
              "      <th>id</th>\n",
              "      <th>battery_power</th>\n",
              "      <th>blue</th>\n",
              "      <th>clock_speed</th>\n",
              "      <th>dual_sim</th>\n",
              "      <th>fc</th>\n",
              "      <th>four_g</th>\n",
              "      <th>int_memory</th>\n",
              "      <th>m_dep</th>\n",
              "      <th>mobile_wt</th>\n",
              "      <th>n_cores</th>\n",
              "      <th>pc</th>\n",
              "      <th>px_height</th>\n",
              "      <th>px_width</th>\n",
              "      <th>ram</th>\n",
              "      <th>sc_h</th>\n",
              "      <th>sc_w</th>\n",
              "      <th>talk_time</th>\n",
              "      <th>three_g</th>\n",
              "      <th>touch_screen</th>\n",
              "      <th>wifi</th>\n",
              "    </tr>\n",
              "  </thead>\n",
              "  <tbody>\n",
              "    <tr>\n",
              "      <th>0</th>\n",
              "      <td>1</td>\n",
              "      <td>1043</td>\n",
              "      <td>1</td>\n",
              "      <td>1.8</td>\n",
              "      <td>1</td>\n",
              "      <td>14</td>\n",
              "      <td>0</td>\n",
              "      <td>5</td>\n",
              "      <td>0.1</td>\n",
              "      <td>193</td>\n",
              "      <td>3</td>\n",
              "      <td>16</td>\n",
              "      <td>226</td>\n",
              "      <td>1412</td>\n",
              "      <td>3476</td>\n",
              "      <td>12</td>\n",
              "      <td>7</td>\n",
              "      <td>2</td>\n",
              "      <td>0</td>\n",
              "      <td>1</td>\n",
              "      <td>0</td>\n",
              "    </tr>\n",
              "    <tr>\n",
              "      <th>1</th>\n",
              "      <td>2</td>\n",
              "      <td>841</td>\n",
              "      <td>1</td>\n",
              "      <td>0.5</td>\n",
              "      <td>1</td>\n",
              "      <td>4</td>\n",
              "      <td>1</td>\n",
              "      <td>61</td>\n",
              "      <td>0.8</td>\n",
              "      <td>191</td>\n",
              "      <td>5</td>\n",
              "      <td>12</td>\n",
              "      <td>746</td>\n",
              "      <td>857</td>\n",
              "      <td>3895</td>\n",
              "      <td>6</td>\n",
              "      <td>0</td>\n",
              "      <td>7</td>\n",
              "      <td>1</td>\n",
              "      <td>0</td>\n",
              "      <td>0</td>\n",
              "    </tr>\n",
              "    <tr>\n",
              "      <th>2</th>\n",
              "      <td>3</td>\n",
              "      <td>1807</td>\n",
              "      <td>1</td>\n",
              "      <td>2.8</td>\n",
              "      <td>0</td>\n",
              "      <td>1</td>\n",
              "      <td>0</td>\n",
              "      <td>27</td>\n",
              "      <td>0.9</td>\n",
              "      <td>186</td>\n",
              "      <td>3</td>\n",
              "      <td>4</td>\n",
              "      <td>1270</td>\n",
              "      <td>1366</td>\n",
              "      <td>2396</td>\n",
              "      <td>17</td>\n",
              "      <td>10</td>\n",
              "      <td>10</td>\n",
              "      <td>0</td>\n",
              "      <td>1</td>\n",
              "      <td>1</td>\n",
              "    </tr>\n",
              "    <tr>\n",
              "      <th>3</th>\n",
              "      <td>4</td>\n",
              "      <td>1546</td>\n",
              "      <td>0</td>\n",
              "      <td>0.5</td>\n",
              "      <td>1</td>\n",
              "      <td>18</td>\n",
              "      <td>1</td>\n",
              "      <td>25</td>\n",
              "      <td>0.5</td>\n",
              "      <td>96</td>\n",
              "      <td>8</td>\n",
              "      <td>20</td>\n",
              "      <td>295</td>\n",
              "      <td>1752</td>\n",
              "      <td>3893</td>\n",
              "      <td>10</td>\n",
              "      <td>0</td>\n",
              "      <td>7</td>\n",
              "      <td>1</td>\n",
              "      <td>1</td>\n",
              "      <td>0</td>\n",
              "    </tr>\n",
              "    <tr>\n",
              "      <th>4</th>\n",
              "      <td>5</td>\n",
              "      <td>1434</td>\n",
              "      <td>0</td>\n",
              "      <td>1.4</td>\n",
              "      <td>0</td>\n",
              "      <td>11</td>\n",
              "      <td>1</td>\n",
              "      <td>49</td>\n",
              "      <td>0.5</td>\n",
              "      <td>108</td>\n",
              "      <td>6</td>\n",
              "      <td>18</td>\n",
              "      <td>749</td>\n",
              "      <td>810</td>\n",
              "      <td>1773</td>\n",
              "      <td>15</td>\n",
              "      <td>8</td>\n",
              "      <td>7</td>\n",
              "      <td>1</td>\n",
              "      <td>0</td>\n",
              "      <td>1</td>\n",
              "    </tr>\n",
              "  </tbody>\n",
              "</table>\n",
              "</div>"
            ],
            "text/plain": [
              "   id  battery_power  blue  clock_speed  dual_sim  fc  four_g  int_memory  \\\n",
              "0   1           1043     1          1.8         1  14       0           5   \n",
              "1   2            841     1          0.5         1   4       1          61   \n",
              "2   3           1807     1          2.8         0   1       0          27   \n",
              "3   4           1546     0          0.5         1  18       1          25   \n",
              "4   5           1434     0          1.4         0  11       1          49   \n",
              "\n",
              "   m_dep  mobile_wt  n_cores  pc  px_height  px_width   ram  sc_h  sc_w  \\\n",
              "0    0.1        193        3  16        226      1412  3476    12     7   \n",
              "1    0.8        191        5  12        746       857  3895     6     0   \n",
              "2    0.9        186        3   4       1270      1366  2396    17    10   \n",
              "3    0.5         96        8  20        295      1752  3893    10     0   \n",
              "4    0.5        108        6  18        749       810  1773    15     8   \n",
              "\n",
              "   talk_time  three_g  touch_screen  wifi  \n",
              "0          2        0             1     0  \n",
              "1          7        1             0     0  \n",
              "2         10        0             1     1  \n",
              "3          7        1             1     0  \n",
              "4          7        1             0     1  "
            ]
          },
          "metadata": {},
          "execution_count": 126
        }
      ]
    },
    {
      "cell_type": "code",
      "metadata": {
        "colab": {
          "base_uri": "https://localhost:8080/",
          "height": 100
        },
        "id": "vYDfYx26IVTY",
        "outputId": "3b23c90c-56c6-4e0c-ef6f-c8e6b9d26fb5"
      },
      "source": [
        "row, clas, probs = learn.predict(testMobilePrice.iloc[4])\n",
        "row.show()"
      ],
      "execution_count": 127,
      "outputs": [
        {
          "output_type": "display_data",
          "data": {
            "text/html": [
              ""
            ],
            "text/plain": [
              "<IPython.core.display.HTML object>"
            ]
          },
          "metadata": {}
        },
        {
          "output_type": "display_data",
          "data": {
            "text/html": [
              "<table border=\"1\" class=\"dataframe\">\n",
              "  <thead>\n",
              "    <tr style=\"text-align: right;\">\n",
              "      <th></th>\n",
              "      <th>blue</th>\n",
              "      <th>fc</th>\n",
              "      <th>four_g</th>\n",
              "      <th>n_cores</th>\n",
              "      <th>sc_h</th>\n",
              "      <th>sc_w</th>\n",
              "      <th>talk_time</th>\n",
              "      <th>three_g</th>\n",
              "      <th>touch_screen</th>\n",
              "      <th>wifi</th>\n",
              "      <th>id</th>\n",
              "      <th>battery_power</th>\n",
              "      <th>clock_speed</th>\n",
              "      <th>int_memory</th>\n",
              "      <th>m_dep</th>\n",
              "      <th>mobile_wt</th>\n",
              "      <th>pc</th>\n",
              "      <th>px_height</th>\n",
              "      <th>px_width</th>\n",
              "      <th>ram</th>\n",
              "      <th>dual_sim</th>\n",
              "    </tr>\n",
              "  </thead>\n",
              "  <tbody>\n",
              "    <tr>\n",
              "      <th>0</th>\n",
              "      <td>0</td>\n",
              "      <td>11</td>\n",
              "      <td>1</td>\n",
              "      <td>6</td>\n",
              "      <td>15</td>\n",
              "      <td>8</td>\n",
              "      <td>7</td>\n",
              "      <td>1</td>\n",
              "      <td>0</td>\n",
              "      <td>1</td>\n",
              "      <td>4.999992</td>\n",
              "      <td>1434.000001</td>\n",
              "      <td>1.4</td>\n",
              "      <td>49.0</td>\n",
              "      <td>0.5</td>\n",
              "      <td>108.000001</td>\n",
              "      <td>18.0</td>\n",
              "      <td>748.999999</td>\n",
              "      <td>810.000001</td>\n",
              "      <td>1773.00001</td>\n",
              "      <td>0</td>\n",
              "    </tr>\n",
              "  </tbody>\n",
              "</table>"
            ],
            "text/plain": [
              "<IPython.core.display.HTML object>"
            ]
          },
          "metadata": {}
        }
      ]
    }
  ]
}